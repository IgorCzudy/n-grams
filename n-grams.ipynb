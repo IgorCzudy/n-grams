{
 "cells": [
  {
   "cell_type": "code",
   "execution_count": 1,
   "metadata": {},
   "outputs": [],
   "source": [
    "import numpy as np\n",
    "import matplotlib.pylab as plt\n",
    "import torch"
   ]
  },
  {
   "cell_type": "code",
   "execution_count": 2,
   "metadata": {},
   "outputs": [],
   "source": [
    "with open(\"names.txt\", \"r\") as f:\n",
    "    names = f.read().splitlines()\n",
    "# names = names[:5]\n",
    "# names"
   ]
  },
  {
   "cell_type": "code",
   "execution_count": 3,
   "metadata": {},
   "outputs": [],
   "source": [
    "names = ['.' +name + '.' for name in names]\n",
    "# names"
   ]
  },
  {
   "cell_type": "code",
   "execution_count": 5,
   "metadata": {},
   "outputs": [],
   "source": [
    "from collections import defaultdict\n",
    "\n",
    "counts = defaultdict(int)\n",
    "for name in names:\n",
    "    bi_gram = [i+j for i, j in zip(name, name[1:])]\n",
    "    for ch1, ch2 in zip(bi_gram, name[2:]):\n",
    "        # print(f'{ch1=} {ch2=}')\n",
    "        tri_gram = (ch1, ch2)\n",
    "        counts[tri_gram] += 1"
   ]
  },
  {
   "cell_type": "code",
   "execution_count": 6,
   "metadata": {},
   "outputs": [
    {
     "data": {
      "text/plain": [
       "[(('ah', '.'), 1714),\n",
       " (('na', '.'), 1673),\n",
       " (('an', '.'), 1509),\n",
       " (('on', '.'), 1503),\n",
       " (('.m', 'a'), 1453),\n",
       " (('.j', 'a'), 1255),\n",
       " (('.k', 'a'), 1254),\n",
       " (('en', '.'), 1217),\n",
       " (('ly', 'n'), 976),\n",
       " (('yn', '.'), 953)]"
      ]
     },
     "execution_count": 6,
     "metadata": {},
     "output_type": "execute_result"
    }
   ],
   "source": [
    "sorted(counts.items(), key=lambda item: item[1], reverse=True)[:10]"
   ]
  },
  {
   "cell_type": "code",
   "execution_count": 7,
   "metadata": {},
   "outputs": [],
   "source": [
    "bigrams, onegrams = zip(*counts.keys())\n",
    "dictionary_col = set(bigrams)\n",
    "dictionary_row = set(onegrams)"
   ]
  },
  {
   "cell_type": "code",
   "execution_count": 8,
   "metadata": {},
   "outputs": [],
   "source": [
    "map_int_to_char_row = {i: ch for i, ch in enumerate(dictionary_row)}\n",
    "map_int_to_char_col = {i: ch for i, ch in enumerate(dictionary_col)}\n",
    "map_char_to_int_row ={ch:i for i, ch in map_int_to_char_row.items()}\n",
    "map_char_to_int_col ={ch:i for i, ch in map_int_to_char_col.items()}\n"
   ]
  },
  {
   "cell_type": "code",
   "execution_count": 9,
   "metadata": {},
   "outputs": [
    {
     "data": {
      "text/plain": [
       "tensor([[ 0.,  3., 51.,  ...,  8.,  0.,  0.],\n",
       "        [ 0.,  0.,  0.,  ...,  0.,  0.,  0.],\n",
       "        [ 0.,  1.,  1.,  ...,  0.,  1.,  0.],\n",
       "        ...,\n",
       "        [ 0.,  0.,  0.,  ...,  0.,  0.,  0.],\n",
       "        [ 0.,  6., 20.,  ...,  1., 13.,  0.],\n",
       "        [ 0.,  0.,  0.,  ...,  0.,  0.,  0.]])"
      ]
     },
     "execution_count": 9,
     "metadata": {},
     "output_type": "execute_result"
    }
   ],
   "source": [
    "counts_vect = torch.zeros((len(dictionary_col), len(dictionary_row)))\n",
    "\n",
    "for name in names:\n",
    "    bi_gram = [i+j for i, j in zip(name, name[1:])]\n",
    "    for ch1, ch2 in zip(bi_gram, name[2:]):\n",
    "        i_ch1, i_ch2 = map_char_to_int_col[ch1], map_char_to_int_row[ch2]\n",
    "        counts_vect[i_ch1, i_ch2] += 1\n",
    "counts_vect"
   ]
  },
  {
   "cell_type": "code",
   "execution_count": 15,
   "metadata": {},
   "outputs": [],
   "source": [
    "# smoothing\n",
    "counts_vect+=5"
   ]
  },
  {
   "cell_type": "code",
   "execution_count": 16,
   "metadata": {},
   "outputs": [
    {
     "data": {
      "text/plain": [
       "tensor([[0.0368, 0.0368, 0.0373,  ..., 0.0369, 0.0368, 0.0368],\n",
       "        [0.0370, 0.0370, 0.0370,  ..., 0.0370, 0.0370, 0.0370],\n",
       "        [0.0369, 0.0370, 0.0370,  ..., 0.0369, 0.0370, 0.0369],\n",
       "        ...,\n",
       "        [0.0370, 0.0370, 0.0370,  ..., 0.0370, 0.0370, 0.0370],\n",
       "        [0.0368, 0.0370, 0.0374,  ..., 0.0368, 0.0372, 0.0368],\n",
       "        [0.0370, 0.0370, 0.0370,  ..., 0.0370, 0.0370, 0.0370]])"
      ]
     },
     "execution_count": 16,
     "metadata": {},
     "output_type": "execute_result"
    }
   ],
   "source": [
    "# normalization by row\n",
    "counts_vect /= counts_vect.sum(1, keepdim=True)\n",
    "counts_vect"
   ]
  },
  {
   "cell_type": "code",
   "execution_count": 17,
   "metadata": {},
   "outputs": [
    {
     "data": {
      "text/plain": [
       "torch.Size([601, 27])"
      ]
     },
     "execution_count": 17,
     "metadata": {},
     "output_type": "execute_result"
    }
   ],
   "source": [
    "counts_vect.shape"
   ]
  },
  {
   "cell_type": "code",
   "execution_count": 40,
   "metadata": {},
   "outputs": [
    {
     "name": "stdout",
     "output_type": "stream",
     "text": [
      ".udcxoarkqxfnozjgzcxuxwbbuhkyqrkqhfhhumzvyzdiavtwgmyva.\n"
     ]
    }
   ],
   "source": [
    "import random \n",
    "\n",
    "staring_inexes = [map_char_to_int_col[bigram] for bigram in dictionary_col if bigram[0]=='.']\n",
    "starting_char = random.choices(staring_inexes)[0]\n",
    "\n",
    "word = [starting_char]\n",
    "while True:\n",
    "    p = counts_vect[word[-1]]\n",
    "    samples = torch.multinomial(p, 1, replacement=True).item()\n",
    "    \n",
    "    word.append(samples)\n",
    "    if map_int_to_char_row[word[-1]][-1] == '.':\n",
    "        break\n",
    "\n",
    "final = \"\".join([map_int_to_char_row[w] for w in word[1:]])\n",
    "final = map_int_to_char_col[starting_char] + final\n",
    "print(final)\n",
    "    "
   ]
  },
  {
   "cell_type": "code",
   "execution_count": 41,
   "metadata": {},
   "outputs": [
    {
     "name": "stdout",
     "output_type": "stream",
     "text": [
      "log_likelihood=tensor(-640606.1875)\n",
      "nll=tensor(640606.1875)\n",
      "3.2665157318115234\n"
     ]
    }
   ],
   "source": [
    "log_likelihood = 0.0\n",
    "n = 0\n",
    "\n",
    "for name in names:\n",
    "    bi_gram = [i+j for i, j in zip(name, name[1:])]\n",
    "    for ch1, ch2 in zip(bi_gram, name[2:]):\n",
    "        i_ch1, i_ch2 = map_char_to_int_col[ch1], map_char_to_int_row[ch2]\n",
    "        prob = counts_vect[i_ch1, i_ch2]\n",
    "        logprob = torch.log(prob)\n",
    "        log_likelihood += logprob\n",
    "        n += 1\n",
    "        #print(f'{ch1}{ch2}: {prob:.4f} {logprob:.4f}')\n",
    "\n",
    "print(f'{log_likelihood=}')\n",
    "nll = -log_likelihood\n",
    "print(f'{nll=}')\n",
    "print(f'{nll/n}')"
   ]
  },
  {
   "cell_type": "markdown",
   "metadata": {},
   "source": [
    "# Neural Networks"
   ]
  },
  {
   "cell_type": "code",
   "execution_count": 42,
   "metadata": {},
   "outputs": [],
   "source": [
    "with open(\"names.txt\", \"r\") as f:\n",
    "    names = f.read().splitlines()"
   ]
  },
  {
   "cell_type": "code",
   "execution_count": 43,
   "metadata": {},
   "outputs": [],
   "source": [
    "names = ['.' +name + '.' for name in names]"
   ]
  },
  {
   "cell_type": "code",
   "execution_count": 44,
   "metadata": {},
   "outputs": [
    {
     "name": "stdout",
     "output_type": "stream",
     "text": [
      "len_xs=601\n",
      "len_ys=27\n"
     ]
    }
   ],
   "source": [
    "xs, ys, = [], []\n",
    "\n",
    "for name in names:\n",
    "    bi_gram = [i+j for i, j in zip(name, name[1:])]\n",
    "    for ch1, ch2 in zip(bi_gram, name[2:]):\n",
    "        i1 = map_char_to_int_col[ch1]\n",
    "        i2 = map_char_to_int_row[ch2]\n",
    "        xs.append(i1)\n",
    "        ys.append(i2)\n",
    "\n",
    "len_xs = len(set(xs))\n",
    "len_ys = len(set(ys))\n",
    "print(f'{len_xs=}')\n",
    "print(f'{len_ys=}')\n",
    "xs = torch.tensor(xs)\n",
    "ys = torch.tensor(ys)"
   ]
  },
  {
   "cell_type": "code",
   "execution_count": 45,
   "metadata": {},
   "outputs": [],
   "source": [
    "W = torch.randn(601, 27, requires_grad=True)"
   ]
  },
  {
   "cell_type": "code",
   "execution_count": 46,
   "metadata": {},
   "outputs": [
    {
     "data": {
      "text/plain": [
       "tensor([[0., 0., 0.,  ..., 0., 0., 0.],\n",
       "        [0., 0., 0.,  ..., 0., 0., 0.],\n",
       "        [0., 0., 0.,  ..., 0., 0., 0.],\n",
       "        ...,\n",
       "        [0., 0., 0.,  ..., 0., 0., 0.],\n",
       "        [0., 0., 0.,  ..., 0., 0., 0.],\n",
       "        [0., 0., 0.,  ..., 0., 0., 0.]])"
      ]
     },
     "execution_count": 46,
     "metadata": {},
     "output_type": "execute_result"
    }
   ],
   "source": [
    "import torch.nn.functional as F \n",
    "xenc = F.one_hot(xs, num_classes=601).float()\n",
    "xenc "
   ]
  },
  {
   "cell_type": "code",
   "execution_count": 47,
   "metadata": {},
   "outputs": [],
   "source": [
    "logits = xenc @ W"
   ]
  },
  {
   "cell_type": "code",
   "execution_count": 48,
   "metadata": {},
   "outputs": [
    {
     "data": {
      "text/plain": [
       "torch.Size([196113, 27])"
      ]
     },
     "execution_count": 48,
     "metadata": {},
     "output_type": "execute_result"
    }
   ],
   "source": [
    "logits.shape"
   ]
  },
  {
   "cell_type": "code",
   "execution_count": 49,
   "metadata": {},
   "outputs": [],
   "source": [
    "counts = logits.exp()\n",
    "probs = counts/ counts.sum(1,keepdim=True)"
   ]
  },
  {
   "cell_type": "code",
   "execution_count": 50,
   "metadata": {},
   "outputs": [
    {
     "name": "stdout",
     "output_type": "stream",
     "text": [
      "tensor(0.0121, grad_fn=<SelectBackward0>)\n",
      "tensor(0.0189, grad_fn=<SelectBackward0>)\n"
     ]
    }
   ],
   "source": [
    "print(probs[0, ys[0]])\n",
    "print(probs[1, ys[1]])"
   ]
  },
  {
   "cell_type": "code",
   "execution_count": 51,
   "metadata": {},
   "outputs": [
    {
     "data": {
      "text/plain": [
       "tensor(4.4183, grad_fn=<NegBackward0>)"
      ]
     },
     "execution_count": 51,
     "metadata": {},
     "output_type": "execute_result"
    }
   ],
   "source": [
    "- probs[0, ys[0]].log()"
   ]
  },
  {
   "cell_type": "code",
   "execution_count": 52,
   "metadata": {},
   "outputs": [
    {
     "data": {
      "text/plain": [
       "tensor([        inf,  1.1513e+01,  2.2314e-01,  1.0005e-03, -1.6094e+00])"
      ]
     },
     "execution_count": 52,
     "metadata": {},
     "output_type": "execute_result"
    }
   ],
   "source": [
    "- torch.tensor([0, 0.00001, 0.8, 0.999, 5]).log()\n",
    "# dla bardzo maych wartości daje bardzo duże wartości, a my chcialibyśmy żeby prawdopodobieństwo 0.0001 zamieniło sie w 1,\n",
    "# ale potrafimy tylko minimalizować dla tego zamieniamy bardzo małe liczby na bardzo duże i wtedy staramy się je minimalizować"
   ]
  },
  {
   "cell_type": "code",
   "execution_count": 53,
   "metadata": {},
   "outputs": [],
   "source": [
    "# loss is avarge negative likehood "
   ]
  },
  {
   "cell_type": "code",
   "execution_count": 54,
   "metadata": {},
   "outputs": [
    {
     "data": {
      "text/plain": [
       "tensor(3.7356, grad_fn=<NegBackward0>)"
      ]
     },
     "execution_count": 54,
     "metadata": {},
     "output_type": "execute_result"
    }
   ],
   "source": [
    "loss = -probs[torch.arange(196113), ys].log().mean()\n",
    "loss"
   ]
  },
  {
   "cell_type": "markdown",
   "metadata": {},
   "source": [
    "# final NN"
   ]
  },
  {
   "cell_type": "code",
   "execution_count": 55,
   "metadata": {},
   "outputs": [
    {
     "name": "stdout",
     "output_type": "stream",
     "text": [
      "len_xs=601\n",
      "len_ys=27\n"
     ]
    }
   ],
   "source": [
    "with open(\"names.txt\", \"r\") as f:\n",
    "    names = f.read().splitlines()\n",
    "names = ['.' +name + '.' for name in names]\n",
    "\n",
    "xs, ys, = [], []\n",
    "\n",
    "for name in names:\n",
    "    bi_gram = [i+j for i, j in zip(name, name[1:])]\n",
    "    for ch1, ch2 in zip(bi_gram, name[2:]):\n",
    "        i1 = map_char_to_int_col[ch1]\n",
    "        i2 = map_char_to_int_row[ch2]\n",
    "        xs.append(i1)\n",
    "        ys.append(i2)\n",
    "\n",
    "len_xs = len(set(xs))\n",
    "len_ys = len(set(ys))\n",
    "print(f'{len_xs=}')\n",
    "print(f'{len_ys=}')\n",
    "xs = torch.tensor(xs)\n",
    "ys = torch.tensor(ys)"
   ]
  },
  {
   "cell_type": "code",
   "execution_count": 56,
   "metadata": {},
   "outputs": [
    {
     "name": "stdout",
     "output_type": "stream",
     "text": [
      "loss.item()=3.812889337539673\n",
      "loss.item()=2.9199628829956055\n",
      "loss.item()=2.657243490219116\n",
      "loss.item()=2.5285897254943848\n",
      "loss.item()=2.4491477012634277\n",
      "loss.item()=2.3940205574035645\n",
      "loss.item()=2.3532018661499023\n",
      "loss.item()=2.3217203617095947\n",
      "loss.item()=2.29670786857605\n",
      "loss.item()=2.2763495445251465\n"
     ]
    }
   ],
   "source": [
    "import torch.nn.functional as F \n",
    "\n",
    "W = torch.randn(601, 27, requires_grad=True)\n",
    "\n",
    "for i in range(100):\n",
    "    xenc = F.one_hot(xs, num_classes=601).float()\n",
    "    logits = xenc @ W\n",
    "    counts = logits.exp()\n",
    "    probs = counts / counts.sum(1, keepdim=True)\n",
    "\n",
    "    loss = -probs[torch.arange(196113), ys].log().mean()\n",
    "    if i%10==0: print(f'{loss.item()=}')\n",
    "    W.grad = None\n",
    "    loss.backward()\n",
    "\n",
    "    W.data += -100 * W.grad  \n"
   ]
  },
  {
   "cell_type": "code",
   "execution_count": 57,
   "metadata": {},
   "outputs": [
    {
     "data": {
      "text/plain": [
       "tensor([[-0.0510, -0.0433,  0.8925,  ..., -0.6487,  0.3182, -0.6579],\n",
       "        [-1.7876,  0.1065, -1.2005,  ..., -0.3005, -0.9137, -0.9794],\n",
       "        [-1.8114, -0.7504, -1.5938,  ...,  0.5628, -0.7114,  1.2853],\n",
       "        ...,\n",
       "        [-2.0834, -0.3072,  0.0968,  ...,  1.1767, -0.5997,  1.2214],\n",
       "        [ 0.3543, -0.3091,  1.6474,  ...,  0.4291,  0.3654,  0.5066],\n",
       "        [ 0.6297, -1.3987,  0.4014,  ...,  0.4010,  0.5598,  0.3477]],\n",
       "       requires_grad=True)"
      ]
     },
     "execution_count": 57,
     "metadata": {},
     "output_type": "execute_result"
    }
   ],
   "source": [
    "# W and counts_vect should be the same\n",
    "W"
   ]
  },
  {
   "cell_type": "code",
   "execution_count": 58,
   "metadata": {},
   "outputs": [
    {
     "data": {
      "text/plain": [
       "tensor([[0.0368, 0.0368, 0.0373,  ..., 0.0369, 0.0368, 0.0368],\n",
       "        [0.0370, 0.0370, 0.0370,  ..., 0.0370, 0.0370, 0.0370],\n",
       "        [0.0369, 0.0370, 0.0370,  ..., 0.0369, 0.0370, 0.0369],\n",
       "        ...,\n",
       "        [0.0370, 0.0370, 0.0370,  ..., 0.0370, 0.0370, 0.0370],\n",
       "        [0.0368, 0.0370, 0.0374,  ..., 0.0368, 0.0372, 0.0368],\n",
       "        [0.0370, 0.0370, 0.0370,  ..., 0.0370, 0.0370, 0.0370]])"
      ]
     },
     "execution_count": 58,
     "metadata": {},
     "output_type": "execute_result"
    }
   ],
   "source": [
    "counts_vect"
   ]
  },
  {
   "cell_type": "code",
   "execution_count": 59,
   "metadata": {},
   "outputs": [
    {
     "name": "stdout",
     "output_type": "stream",
     "text": [
      ".hjaqohldmaejlsptnbbdssgm.\n"
     ]
    }
   ],
   "source": [
    "staring_inexes = [map_char_to_int_col[bigram] for bigram in dictionary_col if bigram[0]=='.']\n",
    "starting_char = random.choices(staring_inexes)[0]\n",
    "\n",
    "word = [starting_char]\n",
    "\n",
    "while True:\n",
    "    xenc = F.one_hot(torch.tensor(word[-1]), num_classes=601).float()\n",
    "    logits = xenc @ W\n",
    "    counts = logits.exp()\n",
    "    # print(counts.sum(1, keepdim=True))\n",
    "    p = counts / counts.sum()\n",
    "\n",
    "    samples = torch.multinomial(p, 1, replacement=True)\n",
    "    word.append(samples.item())\n",
    "    # print(f'{map_int_to_char_row[samples.item()][-1]=}')\n",
    "    # print(f'{word}')\n",
    "    if map_int_to_char_row[word[-1]][-1] == '.':\n",
    "        break\n",
    "word = \"\".join([map_int_to_char_row[w] for w in word[1:]])\n",
    "word = map_int_to_char_col[starting_char] + word\n",
    "print(word)\n"
   ]
  },
  {
   "cell_type": "markdown",
   "metadata": {},
   "source": [
    "random world"
   ]
  },
  {
   "cell_type": "code",
   "execution_count": 60,
   "metadata": {},
   "outputs": [],
   "source": [
    "staring_inexes = [map_char_to_int_col[bigram] for bigram in dictionary_col if bigram[0]=='.']\n",
    "starting_char = random.choices(staring_inexes)[0]\n",
    "\n",
    "word = [starting_char]\n",
    "\n",
    "while True:\n",
    "    xenc = F.one_hot(torch.tensor(word[-1]), num_classes=601).float()\n",
    "    logits = xenc @ W\n",
    "    counts = logits.exp()\n",
    "    # print(counts.sum(1, keepdim=True))\n",
    "    p = counts / counts.sum()\n",
    "\n",
    "    samples = torch.randint(27, size=(1,))\n",
    "    word.append(samples.item())\n",
    "    # print(f'{map_int_to_char_row[samples.item()][-1]=}')\n",
    "    # print(f'{word}')\n",
    "    if map_int_to_char_row[word[-1]][-1] == '.':\n",
    "        break\n",
    "    "
   ]
  },
  {
   "cell_type": "code",
   "execution_count": null,
   "metadata": {},
   "outputs": [],
   "source": []
  }
 ],
 "metadata": {
  "kernelspec": {
   "display_name": "ml",
   "language": "python",
   "name": "python3"
  },
  "language_info": {
   "codemirror_mode": {
    "name": "ipython",
    "version": 3
   },
   "file_extension": ".py",
   "mimetype": "text/x-python",
   "name": "python",
   "nbconvert_exporter": "python",
   "pygments_lexer": "ipython3",
   "version": "3.11.2"
  },
  "orig_nbformat": 4
 },
 "nbformat": 4,
 "nbformat_minor": 2
}
